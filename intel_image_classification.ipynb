{
  "nbformat": 4,
  "nbformat_minor": 0,
  "metadata": {
    "colab": {
      "name": "intel_image_classification.ipynb",
      "version": "0.3.2",
      "provenance": [],
      "collapsed_sections": []
    },
    "kernelspec": {
      "name": "python3",
      "display_name": "Python 3"
    },
    "accelerator": "GPU"
  },
  "cells": [
    {
      "metadata": {
        "id": "p46YMOHBlwBo",
        "colab_type": "code",
        "colab": {
          "base_uri": "https://localhost:8080/",
          "height": 200
        },
        "outputId": "2be0701b-d99f-4486-d464-9332e35c2dc2"
      },
      "cell_type": "code",
      "source": [
        "!pip install PyDrive"
      ],
      "execution_count": 8,
      "outputs": [
        {
          "output_type": "stream",
          "text": [
            "Requirement already satisfied: PyDrive in /usr/local/lib/python3.6/dist-packages (1.3.1)\n",
            "Requirement already satisfied: PyYAML>=3.0 in /usr/local/lib/python3.6/dist-packages (from PyDrive) (3.13)\n",
            "Requirement already satisfied: oauth2client>=4.0.0 in /usr/local/lib/python3.6/dist-packages (from PyDrive) (4.1.3)\n",
            "Requirement already satisfied: google-api-python-client>=1.2 in /usr/local/lib/python3.6/dist-packages (from PyDrive) (1.6.7)\n",
            "Requirement already satisfied: six>=1.6.1 in /usr/local/lib/python3.6/dist-packages (from oauth2client>=4.0.0->PyDrive) (1.11.0)\n",
            "Requirement already satisfied: pyasn1-modules>=0.0.5 in /usr/local/lib/python3.6/dist-packages (from oauth2client>=4.0.0->PyDrive) (0.2.4)\n",
            "Requirement already satisfied: httplib2>=0.9.1 in /usr/local/lib/python3.6/dist-packages (from oauth2client>=4.0.0->PyDrive) (0.11.3)\n",
            "Requirement already satisfied: pyasn1>=0.1.7 in /usr/local/lib/python3.6/dist-packages (from oauth2client>=4.0.0->PyDrive) (0.4.5)\n",
            "Requirement already satisfied: rsa>=3.1.4 in /usr/local/lib/python3.6/dist-packages (from oauth2client>=4.0.0->PyDrive) (4.0)\n",
            "Requirement already satisfied: uritemplate<4dev,>=3.0.0 in /usr/local/lib/python3.6/dist-packages (from google-api-python-client>=1.2->PyDrive) (3.0.0)\n"
          ],
          "name": "stdout"
        }
      ]
    },
    {
      "metadata": {
        "id": "QTKQpbzBmnW_",
        "colab_type": "code",
        "colab": {}
      },
      "cell_type": "code",
      "source": [
        "import os\n",
        "from pydrive.auth import GoogleAuth\n",
        "from pydrive.drive import GoogleDrive\n",
        "from google.colab import auth\n",
        "from oauth2client.client import GoogleCredentials"
      ],
      "execution_count": 0,
      "outputs": []
    },
    {
      "metadata": {
        "id": "iRnq2ztsnYiO",
        "colab_type": "code",
        "colab": {}
      },
      "cell_type": "code",
      "source": [
        "auth.authenticate_user()\n",
        "gauth = GoogleAuth()\n",
        "gauth.credentials = GoogleCredentials.get_application_default()\n",
        "drive = GoogleDrive(gauth)"
      ],
      "execution_count": 0,
      "outputs": []
    },
    {
      "metadata": {
        "id": "NqKxiMjGnw7W",
        "colab_type": "code",
        "colab": {}
      },
      "cell_type": "code",
      "source": [
        "download = drive.CreateFile({'id':'1t19mxKOrFgePTGOvoCyaB-bj4EguQ4Cq'})"
      ],
      "execution_count": 0,
      "outputs": []
    },
    {
      "metadata": {
        "id": "y1HtiyhcwdOu",
        "colab_type": "code",
        "colab": {}
      },
      "cell_type": "code",
      "source": [
        "download.GetContentFile('train-scene-classification.zip')\n",
        "!unzip train-scene-classification.zip"
      ],
      "execution_count": 0,
      "outputs": []
    },
    {
      "metadata": {
        "id": "WP6luti3wvHy",
        "colab_type": "code",
        "colab": {}
      },
      "cell_type": "code",
      "source": [
        "import keras\n",
        "from keras.models import Sequential\n",
        "from keras.applications import ResNet50\n",
        "from keras.layers import Dense, Dropout, Flatten\n",
        "from keras.layers import Conv2D, MaxPooling2D\n",
        "from keras.utils import to_categorical\n",
        "from keras.preprocessing import image\n",
        "import numpy as np\n",
        "import pandas as pd\n",
        "import matplotlib.pyplot as plt\n",
        "from PIL import Image\n",
        "from sklearn.model_selection import train_test_split\n",
        "from keras.utils import to_categorical\n",
        "from tqdm import tqdm   #for progress bar"
      ],
      "execution_count": 0,
      "outputs": []
    },
    {
      "metadata": {
        "id": "N2fPGaLixWkT",
        "colab_type": "code",
        "colab": {}
      },
      "cell_type": "code",
      "source": [
        "train = pd.read_csv('train.csv')\n"
      ],
      "execution_count": 0,
      "outputs": []
    },
    {
      "metadata": {
        "id": "0GT5kH3-x6aC",
        "colab_type": "code",
        "colab": {
          "base_uri": "https://localhost:8080/",
          "height": 33
        },
        "outputId": "62f1bb5e-b39b-4ad6-a711-e91e378f8df5"
      },
      "cell_type": "code",
      "source": [
        "train_image = []\n",
        "for i in tqdm(range(train.shape[0])):\n",
        "    img = image.load_img('train/'+train['image_name'][i], target_size=(50,50,3), grayscale=False)\n",
        "    img = image.img_to_array(img)\n",
        "    img = img/255\n",
        "    train_image.append(img)\n",
        "X = np.array(train_image)"
      ],
      "execution_count": 26,
      "outputs": [
        {
          "output_type": "stream",
          "text": [
            "100%|██████████| 17034/17034 [00:17<00:00, 988.88it/s]\n"
          ],
          "name": "stderr"
        }
      ]
    },
    {
      "metadata": {
        "id": "JX8QNMcCyDQJ",
        "colab_type": "code",
        "colab": {}
      },
      "cell_type": "code",
      "source": [
        "y=train['label'].values\n",
        "y = to_categorical(y)\n"
      ],
      "execution_count": 0,
      "outputs": []
    },
    {
      "metadata": {
        "id": "AhMuUGIHzPhP",
        "colab_type": "code",
        "colab": {}
      },
      "cell_type": "code",
      "source": [
        "X_train, X_test, y_train, y_test = train_test_split(X, y, random_state=42, test_size=0.2)"
      ],
      "execution_count": 0,
      "outputs": []
    },
    {
      "metadata": {
        "id": "vmT10g_4zcsw",
        "colab_type": "code",
        "colab": {
          "base_uri": "https://localhost:8080/",
          "height": 488
        },
        "outputId": "93fa09a0-1ac0-43d5-ded0-1f8e1a148f89"
      },
      "cell_type": "code",
      "source": [
        "model=Sequential()\n",
        "model.add(Conv2D(filters=16,kernel_size=2,padding=\"same\",activation=\"relu\",input_shape=(50,50,3)))\n",
        "model.add(MaxPooling2D(pool_size=2))\n",
        "model.add(Conv2D(filters=32,kernel_size=2,padding=\"same\",activation=\"relu\"))\n",
        "model.add(MaxPooling2D(pool_size=2))\n",
        "model.add(Conv2D(filters=64,kernel_size=2,padding=\"same\",activation=\"relu\"))\n",
        "model.add(MaxPooling2D(pool_size=2))\n",
        "model.add(Conv2D(filters=64,kernel_size=2,padding=\"same\",activation=\"relu\"))\n",
        "model.add(MaxPooling2D(pool_size=2))\n",
        "model.add(Flatten())\n",
        "model.add(Dense(500,activation=\"relu\"))\n",
        "model.add(Dense(6,activation=\"softmax\"))\n",
        "model.summary()"
      ],
      "execution_count": 29,
      "outputs": [
        {
          "output_type": "stream",
          "text": [
            "_________________________________________________________________\n",
            "Layer (type)                 Output Shape              Param #   \n",
            "=================================================================\n",
            "conv2d_9 (Conv2D)            (None, 50, 50, 16)        208       \n",
            "_________________________________________________________________\n",
            "max_pooling2d_9 (MaxPooling2 (None, 25, 25, 16)        0         \n",
            "_________________________________________________________________\n",
            "conv2d_10 (Conv2D)           (None, 25, 25, 32)        2080      \n",
            "_________________________________________________________________\n",
            "max_pooling2d_10 (MaxPooling (None, 12, 12, 32)        0         \n",
            "_________________________________________________________________\n",
            "conv2d_11 (Conv2D)           (None, 12, 12, 64)        8256      \n",
            "_________________________________________________________________\n",
            "max_pooling2d_11 (MaxPooling (None, 6, 6, 64)          0         \n",
            "_________________________________________________________________\n",
            "conv2d_12 (Conv2D)           (None, 6, 6, 64)          16448     \n",
            "_________________________________________________________________\n",
            "max_pooling2d_12 (MaxPooling (None, 3, 3, 64)          0         \n",
            "_________________________________________________________________\n",
            "flatten_3 (Flatten)          (None, 576)               0         \n",
            "_________________________________________________________________\n",
            "dense_5 (Dense)              (None, 500)               288500    \n",
            "_________________________________________________________________\n",
            "dense_6 (Dense)              (None, 6)                 3006      \n",
            "=================================================================\n",
            "Total params: 318,498\n",
            "Trainable params: 318,498\n",
            "Non-trainable params: 0\n",
            "_________________________________________________________________\n"
          ],
          "name": "stdout"
        }
      ]
    },
    {
      "metadata": {
        "id": "306Iiha7zfZ9",
        "colab_type": "code",
        "colab": {}
      },
      "cell_type": "code",
      "source": [
        "model.compile(loss='categorical_crossentropy',optimizer='Adam',metrics=['accuracy'])"
      ],
      "execution_count": 0,
      "outputs": []
    },
    {
      "metadata": {
        "id": "tsoHJdKRzqNb",
        "colab_type": "code",
        "colab": {
          "base_uri": "https://localhost:8080/",
          "height": 1418
        },
        "outputId": "18e147cb-04a9-4b53-8cd4-4bf7e2ae4d50"
      },
      "cell_type": "code",
      "source": [
        "model.fit(X_train, y_train, epochs=40, validation_data=(X_test, y_test))"
      ],
      "execution_count": 31,
      "outputs": [
        {
          "output_type": "stream",
          "text": [
            "WARNING:tensorflow:From /usr/local/lib/python3.6/dist-packages/tensorflow/python/ops/math_ops.py:3066: to_int32 (from tensorflow.python.ops.math_ops) is deprecated and will be removed in a future version.\n",
            "Instructions for updating:\n",
            "Use tf.cast instead.\n",
            "Train on 13627 samples, validate on 3407 samples\n",
            "Epoch 1/40\n",
            "13627/13627 [==============================] - 10s 711us/step - loss: 1.0601 - acc: 0.5891 - val_loss: 0.8213 - val_acc: 0.6815\n",
            "Epoch 2/40\n",
            "13627/13627 [==============================] - 5s 358us/step - loss: 0.7445 - acc: 0.7228 - val_loss: 0.6591 - val_acc: 0.7643\n",
            "Epoch 3/40\n",
            "13627/13627 [==============================] - 5s 355us/step - loss: 0.6576 - acc: 0.7591 - val_loss: 0.6061 - val_acc: 0.7763\n",
            "Epoch 4/40\n",
            "13627/13627 [==============================] - 5s 353us/step - loss: 0.5742 - acc: 0.7898 - val_loss: 0.5640 - val_acc: 0.7913\n",
            "Epoch 5/40\n",
            "13627/13627 [==============================] - 5s 349us/step - loss: 0.5377 - acc: 0.8065 - val_loss: 0.5770 - val_acc: 0.7878\n",
            "Epoch 6/40\n",
            "13627/13627 [==============================] - 5s 348us/step - loss: 0.4910 - acc: 0.8252 - val_loss: 0.5561 - val_acc: 0.7901\n",
            "Epoch 7/40\n",
            "13627/13627 [==============================] - 5s 346us/step - loss: 0.4362 - acc: 0.8439 - val_loss: 0.5541 - val_acc: 0.7981\n",
            "Epoch 8/40\n",
            "13627/13627 [==============================] - 5s 347us/step - loss: 0.3954 - acc: 0.8576 - val_loss: 0.5090 - val_acc: 0.8104\n",
            "Epoch 9/40\n",
            "13627/13627 [==============================] - 5s 350us/step - loss: 0.3544 - acc: 0.8761 - val_loss: 0.6341 - val_acc: 0.7716\n",
            "Epoch 10/40\n",
            "13627/13627 [==============================] - 5s 346us/step - loss: 0.3267 - acc: 0.8830 - val_loss: 0.5228 - val_acc: 0.8254\n",
            "Epoch 11/40\n",
            "13627/13627 [==============================] - 5s 344us/step - loss: 0.2865 - acc: 0.8998 - val_loss: 0.5274 - val_acc: 0.8301\n",
            "Epoch 12/40\n",
            "13627/13627 [==============================] - 5s 345us/step - loss: 0.2403 - acc: 0.9139 - val_loss: 0.5932 - val_acc: 0.8163\n",
            "Epoch 13/40\n",
            "13627/13627 [==============================] - 5s 346us/step - loss: 0.2170 - acc: 0.9217 - val_loss: 0.5684 - val_acc: 0.8171\n",
            "Epoch 14/40\n",
            "13627/13627 [==============================] - 5s 343us/step - loss: 0.1726 - acc: 0.9364 - val_loss: 0.5984 - val_acc: 0.8227\n",
            "Epoch 15/40\n",
            "13627/13627 [==============================] - 5s 344us/step - loss: 0.1523 - acc: 0.9475 - val_loss: 0.7300 - val_acc: 0.7831\n",
            "Epoch 16/40\n",
            "13627/13627 [==============================] - 5s 345us/step - loss: 0.1214 - acc: 0.9586 - val_loss: 0.7346 - val_acc: 0.8130\n",
            "Epoch 17/40\n",
            "13627/13627 [==============================] - 5s 346us/step - loss: 0.1227 - acc: 0.9555 - val_loss: 0.7021 - val_acc: 0.8072\n",
            "Epoch 18/40\n",
            "13627/13627 [==============================] - 5s 347us/step - loss: 0.0920 - acc: 0.9675 - val_loss: 0.7742 - val_acc: 0.8151\n",
            "Epoch 19/40\n",
            "13627/13627 [==============================] - 5s 343us/step - loss: 0.0852 - acc: 0.9709 - val_loss: 0.8617 - val_acc: 0.7984\n",
            "Epoch 20/40\n",
            "13627/13627 [==============================] - 5s 345us/step - loss: 0.0849 - acc: 0.9687 - val_loss: 0.8310 - val_acc: 0.8072\n",
            "Epoch 21/40\n",
            "13627/13627 [==============================] - 5s 345us/step - loss: 0.0774 - acc: 0.9739 - val_loss: 1.0871 - val_acc: 0.7634\n",
            "Epoch 22/40\n",
            "13627/13627 [==============================] - 5s 346us/step - loss: 0.0755 - acc: 0.9728 - val_loss: 0.9756 - val_acc: 0.8031\n",
            "Epoch 23/40\n",
            "13627/13627 [==============================] - 5s 346us/step - loss: 0.0508 - acc: 0.9824 - val_loss: 1.0313 - val_acc: 0.7957\n",
            "Epoch 24/40\n",
            "13627/13627 [==============================] - 5s 344us/step - loss: 0.0543 - acc: 0.9807 - val_loss: 1.1268 - val_acc: 0.7995\n",
            "Epoch 25/40\n",
            "13627/13627 [==============================] - 5s 342us/step - loss: 0.0618 - acc: 0.9805 - val_loss: 1.0772 - val_acc: 0.7896\n",
            "Epoch 26/40\n",
            "13627/13627 [==============================] - 5s 341us/step - loss: 0.0743 - acc: 0.9753 - val_loss: 1.1580 - val_acc: 0.7849\n",
            "Epoch 27/40\n",
            "13627/13627 [==============================] - 5s 341us/step - loss: 0.0507 - acc: 0.9832 - val_loss: 1.1218 - val_acc: 0.8110\n",
            "Epoch 28/40\n",
            "13627/13627 [==============================] - 5s 342us/step - loss: 0.0323 - acc: 0.9900 - val_loss: 1.0562 - val_acc: 0.8198\n",
            "Epoch 29/40\n",
            "13627/13627 [==============================] - 5s 340us/step - loss: 0.0480 - acc: 0.9833 - val_loss: 1.0739 - val_acc: 0.7931\n",
            "Epoch 30/40\n",
            "13627/13627 [==============================] - 5s 342us/step - loss: 0.0545 - acc: 0.9819 - val_loss: 1.0608 - val_acc: 0.8122\n",
            "Epoch 31/40\n",
            "13627/13627 [==============================] - 5s 342us/step - loss: 0.0474 - acc: 0.9838 - val_loss: 1.0361 - val_acc: 0.8080\n",
            "Epoch 32/40\n",
            "13627/13627 [==============================] - 5s 342us/step - loss: 0.0295 - acc: 0.9910 - val_loss: 1.2187 - val_acc: 0.8025\n",
            "Epoch 33/40\n",
            "13627/13627 [==============================] - 5s 340us/step - loss: 0.0630 - acc: 0.9776 - val_loss: 1.2149 - val_acc: 0.7825\n",
            "Epoch 34/40\n",
            "13627/13627 [==============================] - 5s 339us/step - loss: 0.0308 - acc: 0.9892 - val_loss: 1.2551 - val_acc: 0.7972\n",
            "Epoch 35/40\n",
            "13627/13627 [==============================] - 5s 337us/step - loss: 0.0566 - acc: 0.9809 - val_loss: 1.2805 - val_acc: 0.7843\n",
            "Epoch 36/40\n",
            "13627/13627 [==============================] - 5s 340us/step - loss: 0.0199 - acc: 0.9938 - val_loss: 1.2273 - val_acc: 0.8042\n",
            "Epoch 37/40\n",
            "13627/13627 [==============================] - 5s 341us/step - loss: 0.0551 - acc: 0.9820 - val_loss: 1.1643 - val_acc: 0.7948\n",
            "Epoch 38/40\n",
            "13627/13627 [==============================] - 5s 339us/step - loss: 0.0414 - acc: 0.9861 - val_loss: 1.2183 - val_acc: 0.8022\n",
            "Epoch 39/40\n",
            "13627/13627 [==============================] - 5s 339us/step - loss: 0.0325 - acc: 0.9893 - val_loss: 1.2321 - val_acc: 0.8066\n",
            "Epoch 40/40\n",
            "13627/13627 [==============================] - 5s 339us/step - loss: 0.0498 - acc: 0.9837 - val_loss: 1.2213 - val_acc: 0.7992\n"
          ],
          "name": "stdout"
        },
        {
          "output_type": "execute_result",
          "data": {
            "text/plain": [
              "<keras.callbacks.History at 0x7fae11d58080>"
            ]
          },
          "metadata": {
            "tags": []
          },
          "execution_count": 31
        }
      ]
    },
    {
      "metadata": {
        "id": "woSnZtAHzsne",
        "colab_type": "code",
        "colab": {}
      },
      "cell_type": "code",
      "source": [
        "download = drive.CreateFile({'id': '1Wpr31a6vIK4NdPMWgcovnNIVkKo9esOU'})\n",
        "download.GetContentFile('test_WyRytb0.csv')"
      ],
      "execution_count": 0,
      "outputs": []
    },
    {
      "metadata": {
        "id": "5BmDW4Ia3606",
        "colab_type": "code",
        "colab": {
          "base_uri": "https://localhost:8080/",
          "height": 33
        },
        "outputId": "a33b6925-c6dc-4031-972a-1b7013297d48"
      },
      "cell_type": "code",
      "source": [
        "test = pd.read_csv('test_WyRytb0.csv')\n",
        "print(test.shape)"
      ],
      "execution_count": 33,
      "outputs": [
        {
          "output_type": "stream",
          "text": [
            "(7301, 1)\n"
          ],
          "name": "stdout"
        }
      ]
    },
    {
      "metadata": {
        "id": "EzmJh3xN4F6f",
        "colab_type": "code",
        "colab": {
          "base_uri": "https://localhost:8080/",
          "height": 33
        },
        "outputId": "58b319cc-cb49-450b-a7ff-fc4486c6b2e7"
      },
      "cell_type": "code",
      "source": [
        "test_image = []\n",
        "for i in tqdm(range(test.shape[0])):\n",
        "    img = image.load_img('train/'+train['image_name'][i], target_size=(50,50,3), grayscale=False)\n",
        "    img = image.img_to_array(img)\n",
        "    img = img/255\n",
        "    test_image.append(img)\n",
        "X = np.array(test_image)"
      ],
      "execution_count": 35,
      "outputs": [
        {
          "output_type": "stream",
          "text": [
            "100%|██████████| 7301/7301 [00:07<00:00, 976.57it/s]\n"
          ],
          "name": "stderr"
        }
      ]
    },
    {
      "metadata": {
        "id": "6YmIvB25Plvl",
        "colab_type": "code",
        "colab": {
          "base_uri": "https://localhost:8080/",
          "height": 50
        },
        "outputId": "a3eb75e7-b4e3-460a-b75b-0dc0a1b63c63"
      },
      "cell_type": "code",
      "source": [
        "accuracy = model.evaluate(X_test, y_test, verbose=1)\n",
        "print('Test_Accuracy:-', accuracy[1])"
      ],
      "execution_count": 39,
      "outputs": [
        {
          "output_type": "stream",
          "text": [
            "3407/3407 [==============================] - 0s 129us/step\n",
            "Test_Accuracy:- 0.7992368653123596\n"
          ],
          "name": "stdout"
        }
      ]
    },
    {
      "metadata": {
        "id": "sY8CaRqo4PMa",
        "colab_type": "code",
        "colab": {}
      },
      "cell_type": "code",
      "source": [
        "prediction = model.predict_classes(test)"
      ],
      "execution_count": 0,
      "outputs": []
    },
    {
      "metadata": {
        "id": "ZZqKRJ8E5ag_",
        "colab_type": "code",
        "colab": {}
      },
      "cell_type": "code",
      "source": [
        "download = drive.CreateFile({'id': '1qw8Lw8VRvExI-58C0wHD9O51iT6jN25I'})\n",
        "download.GetContentFile('sample_submission_CH2mq5Z.csv')"
      ],
      "execution_count": 0,
      "outputs": []
    },
    {
      "metadata": {
        "id": "of2ts5Xq8djY",
        "colab_type": "code",
        "colab": {}
      },
      "cell_type": "code",
      "source": [
        "sample = pd.read_csv('sample_submission_CH2mq5Z.csv')\n",
        "sample['label']=prediction\n",
        "sample.to_csv('sample_cnn.csv',header=True,index=False)"
      ],
      "execution_count": 0,
      "outputs": []
    },
    {
      "metadata": {
        "id": "y4aR6VHe8jjM",
        "colab_type": "code",
        "colab": {
          "base_uri": "https://localhost:8080/",
          "height": 66
        },
        "outputId": "89f90a2c-c300-4dfd-e5f1-4542f8fa2a90"
      },
      "cell_type": "code",
      "source": [
        ""
      ],
      "execution_count": 60,
      "outputs": [
        {
          "output_type": "stream",
          "text": [
            "adc.json        sample_submission_CH2mq5Z.csv  \u001b[0m\u001b[01;34mtrain\u001b[0m/\n",
            "sample_cnn.csv  submission.csv                 train.csv\n",
            "\u001b[01;34msample_data\u001b[0m/    test_WyRytb0.csv               train-scene-classification.zip\n"
          ],
          "name": "stdout"
        }
      ]
    },
    {
      "metadata": {
        "id": "Dbs79NWl9Tq0",
        "colab_type": "code",
        "colab": {}
      },
      "cell_type": "code",
      "source": [
        ""
      ],
      "execution_count": 0,
      "outputs": []
    }
  ]
}